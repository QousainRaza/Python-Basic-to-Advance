{
 "cells": [
  {
   "cell_type": "markdown",
   "id": "71e2b1e6",
   "metadata": {},
   "source": [
    "## loops"
   ]
  },
  {
   "cell_type": "code",
   "execution_count": null,
   "id": "60c75a1e",
   "metadata": {},
   "outputs": [],
   "source": [
    "## for loop\n",
    "\n",
    "for i in range(5):\n",
    "    print(i)"
   ]
  },
  {
   "cell_type": "code",
   "execution_count": null,
   "id": "169d296e",
   "metadata": {},
   "outputs": [],
   "source": [
    "for i in range(1,6):\n",
    "    print(i)"
   ]
  },
  {
   "cell_type": "code",
   "execution_count": null,
   "id": "861a397b",
   "metadata": {},
   "outputs": [],
   "source": [
    "for i in range(1,10,2):\n",
    "    print(i)"
   ]
  },
  {
   "cell_type": "code",
   "execution_count": null,
   "id": "6e55ce21",
   "metadata": {},
   "outputs": [],
   "source": [
    "## srings\n",
    "\n",
    "str= \"Qousain Raza\"\n",
    "\n",
    "for i in str:\n",
    "    print(i)"
   ]
  },
  {
   "cell_type": "code",
   "execution_count": null,
   "id": "cedf9bcb",
   "metadata": {},
   "outputs": [],
   "source": [
    "## while loop\n",
    "\n",
    "## this is countinues until the condition is true\n",
    "count = 0\n",
    "while count<5:\n",
    "    print(count)\n",
    "    count=count+1"
   ]
  },
  {
   "cell_type": "code",
   "execution_count": null,
   "id": "6f6ec524",
   "metadata": {},
   "outputs": [],
   "source": [
    "## \n",
    "while True:\n",
    "    print(\"This never ends!\")  # Press Ctrl + C to stop\n"
   ]
  },
  {
   "cell_type": "markdown",
   "id": "24590ada",
   "metadata": {},
   "source": [
    "## Break\n",
    "**.** Exits the loop immediately, no matter the condition."
   ]
  },
  {
   "cell_type": "code",
   "execution_count": 8,
   "id": "0e80bb5c",
   "metadata": {},
   "outputs": [
    {
     "name": "stdout",
     "output_type": "stream",
     "text": [
      "Apple\n",
      "Orange\n"
     ]
    }
   ],
   "source": [
    "Fruits=[\"Apple\",\"Orange\",\"Banana\",\"Mango\"]\n",
    "\n",
    "for fruit in Fruits:\n",
    "    if fruit == \"Banana\":\n",
    "        break\n",
    "    print(fruit)\n",
    "    \n"
   ]
  },
  {
   "cell_type": "markdown",
   "id": "35e1112d",
   "metadata": {},
   "source": [
    "## Continue Statement"
   ]
  },
  {
   "cell_type": "markdown",
   "id": "29eca762",
   "metadata": {},
   "source": [
    "Skips the current iteration and moves to the next one. "
   ]
  },
  {
   "cell_type": "code",
   "execution_count": 11,
   "id": "57df2f7d",
   "metadata": {},
   "outputs": [
    {
     "name": "stdout",
     "output_type": "stream",
     "text": [
      "Apple\n",
      "Orange\n",
      "Mango\n"
     ]
    }
   ],
   "source": [
    "Fruits=[\"Apple\",\"Orange\",\"Banana\",\"Mango\"]\n",
    "\n",
    "for fruits in Fruits:\n",
    "    if fruits == \"Banana\":\n",
    "        continue\n",
    "    print(fruits)\n",
    "\n",
    "## It skipped “banana” but continued looping."
   ]
  },
  {
   "cell_type": "code",
   "execution_count": 12,
   "id": "409ca537",
   "metadata": {},
   "outputs": [
    {
     "name": "stdout",
     "output_type": "stream",
     "text": [
      "2 *  1 =  2\n",
      "2 *  2 =  4\n",
      "2 *  3 =  6\n",
      "2 *  4 =  8\n",
      "2 *  5 =  10\n",
      "2 *  6 =  12\n",
      "2 *  7 =  14\n",
      "2 *  8 =  16\n",
      "2 *  9 =  18\n",
      "2 *  10 =  20\n"
     ]
    }
   ],
   "source": [
    "for i in range(1,11):\n",
    "    print(\"2 * \",i, \"= \",2*i)"
   ]
  },
  {
   "cell_type": "code",
   "execution_count": null,
   "id": "2466e78a",
   "metadata": {},
   "outputs": [],
   "source": [
    "for i in range(1,10):\n",
    "    if "
   ]
  }
 ],
 "metadata": {
  "kernelspec": {
   "display_name": "venv",
   "language": "python",
   "name": "python3"
  },
  "language_info": {
   "codemirror_mode": {
    "name": "ipython",
    "version": 3
   },
   "file_extension": ".py",
   "mimetype": "text/x-python",
   "name": "python",
   "nbconvert_exporter": "python",
   "pygments_lexer": "ipython3",
   "version": "3.12.0"
  }
 },
 "nbformat": 4,
 "nbformat_minor": 5
}
