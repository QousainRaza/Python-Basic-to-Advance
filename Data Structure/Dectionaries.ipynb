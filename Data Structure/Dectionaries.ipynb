{
 "cells": [
  {
   "cell_type": "markdown",
   "id": "74faa51f",
   "metadata": {},
   "source": [
    "# Dictionary"
   ]
  },
  {
   "cell_type": "markdown",
   "id": "6219875d",
   "metadata": {},
   "source": [
    " The dictionary or dict may be the most important built-in Python data structure.\n",
    " In other programming languages, dictionaries are sometimes called hash maps or\n",
    " associative arrays. "
   ]
  },
  {
   "cell_type": "code",
   "execution_count": 4,
   "id": "50510c18",
   "metadata": {},
   "outputs": [
    {
     "data": {
      "text/plain": [
       "{'a': 'Some Value', 'b': [1, 3, 23, 4, 6, 5]}"
      ]
     },
     "execution_count": 4,
     "metadata": {},
     "output_type": "execute_result"
    }
   ],
   "source": [
    "empty_dict = {}\n",
    "d1 = {\"a\": \"Some Value\",\"b\":[1,3,23,4,6,5]}\n",
    "d1"
   ]
  },
  {
   "cell_type": "markdown",
   "id": "fd4592d3",
   "metadata": {},
   "source": [
    " You can access, insert, or set elements using the same syntax as for accessing elements\n",
    " of a list or tuple:"
   ]
  },
  {
   "cell_type": "code",
   "execution_count": 6,
   "id": "9951539b",
   "metadata": {},
   "outputs": [
    {
     "data": {
      "text/plain": [
       "{'a': 'Some Value', 'b': [1, 3, 23, 4, 6, 5], 7: 'An integar'}"
      ]
     },
     "execution_count": 6,
     "metadata": {},
     "output_type": "execute_result"
    }
   ],
   "source": [
    "d1[7]=\"An integar\"\n",
    "d1"
   ]
  },
  {
   "cell_type": "code",
   "execution_count": 7,
   "id": "b9a3421f",
   "metadata": {},
   "outputs": [
    {
     "data": {
      "text/plain": [
       "[1, 3, 23, 4, 6, 5]"
      ]
     },
     "execution_count": 7,
     "metadata": {},
     "output_type": "execute_result"
    }
   ],
   "source": [
    "d1[\"b\"]"
   ]
  },
  {
   "cell_type": "markdown",
   "id": "60616362",
   "metadata": {},
   "source": [
    "check :\n"
   ]
  },
  {
   "cell_type": "code",
   "execution_count": 8,
   "id": "a890470c",
   "metadata": {},
   "outputs": [
    {
     "data": {
      "text/plain": [
       "True"
      ]
     },
     "execution_count": 8,
     "metadata": {},
     "output_type": "execute_result"
    }
   ],
   "source": [
    "\"b\" in d1"
   ]
  },
  {
   "cell_type": "markdown",
   "id": "bddf2c46",
   "metadata": {},
   "source": [
    "You can delete values using either the del keyword or the pop method"
   ]
  },
  {
   "cell_type": "code",
   "execution_count": 17,
   "id": "add4de8e",
   "metadata": {},
   "outputs": [
    {
     "data": {
      "text/plain": [
       "{'a': 'Some Value',\n",
       " 'b': [1, 3, 23, 4, 6, 5],\n",
       " 7: 'An integar',\n",
       " 'dummy': 'Another Value',\n",
       " 5: 'some value'}"
      ]
     },
     "execution_count": 17,
     "metadata": {},
     "output_type": "execute_result"
    }
   ],
   "source": [
    "d1[5] =\"some value\"\n",
    "d1"
   ]
  },
  {
   "cell_type": "code",
   "execution_count": 13,
   "id": "52b222d2",
   "metadata": {},
   "outputs": [
    {
     "data": {
      "text/plain": [
       "{'a': 'Some Value',\n",
       " 'b': [1, 3, 23, 4, 6, 5],\n",
       " 7: 'An integar',\n",
       " 5: 'some value',\n",
       " 'dummy': 'Another Value'}"
      ]
     },
     "execution_count": 13,
     "metadata": {},
     "output_type": "execute_result"
    }
   ],
   "source": [
    "d1[\"dummy\"] = \"Another Value\"\n",
    "d1"
   ]
  },
  {
   "cell_type": "code",
   "execution_count": 18,
   "id": "2340e595",
   "metadata": {},
   "outputs": [
    {
     "data": {
      "text/plain": [
       "{'a': 'Some Value',\n",
       " 'b': [1, 3, 23, 4, 6, 5],\n",
       " 7: 'An integar',\n",
       " 'dummy': 'Another Value'}"
      ]
     },
     "execution_count": 18,
     "metadata": {},
     "output_type": "execute_result"
    }
   ],
   "source": [
    "del d1[5]\n",
    "d1"
   ]
  },
  {
   "cell_type": "code",
   "execution_count": 19,
   "id": "9b36567c",
   "metadata": {},
   "outputs": [
    {
     "data": {
      "text/plain": [
       "'Another Value'"
      ]
     },
     "execution_count": 19,
     "metadata": {},
     "output_type": "execute_result"
    }
   ],
   "source": [
    "ret = d1.pop(\"dummy\")\n",
    "ret"
   ]
  },
  {
   "cell_type": "code",
   "execution_count": 20,
   "id": "5df5fd11",
   "metadata": {},
   "outputs": [
    {
     "data": {
      "text/plain": [
       "{'a': 'Some Value', 'b': [1, 3, 23, 4, 6, 5], 7: 'An integar'}"
      ]
     },
     "execution_count": 20,
     "metadata": {},
     "output_type": "execute_result"
    }
   ],
   "source": [
    "d1"
   ]
  },
  {
   "cell_type": "markdown",
   "id": "454595f8",
   "metadata": {},
   "source": [
    "order of the kays"
   ]
  },
  {
   "cell_type": "code",
   "execution_count": 21,
   "id": "08e742b9",
   "metadata": {},
   "outputs": [
    {
     "data": {
      "text/plain": [
       "['a', 'b', 7]"
      ]
     },
     "execution_count": 21,
     "metadata": {},
     "output_type": "execute_result"
    }
   ],
   "source": [
    "list(d1.keys())"
   ]
  },
  {
   "cell_type": "code",
   "execution_count": 23,
   "id": "8fb4620d",
   "metadata": {},
   "outputs": [
    {
     "data": {
      "text/plain": [
       "['Some Value', [1, 3, 23, 4, 6, 5], 'An integar']"
      ]
     },
     "execution_count": 23,
     "metadata": {},
     "output_type": "execute_result"
    }
   ],
   "source": [
    "list(d1.values())"
   ]
  },
  {
   "cell_type": "markdown",
   "id": "47cc1bd7",
   "metadata": {},
   "source": [
    "The items method to\n",
    " iterate over the keys and values as 2-tuples:"
   ]
  },
  {
   "cell_type": "code",
   "execution_count": 24,
   "id": "38936333",
   "metadata": {},
   "outputs": [
    {
     "data": {
      "text/plain": [
       "[('a', 'Some Value'), ('b', [1, 3, 23, 4, 6, 5]), (7, 'An integar')]"
      ]
     },
     "execution_count": 24,
     "metadata": {},
     "output_type": "execute_result"
    }
   ],
   "source": [
    "list(d1.items())"
   ]
  },
  {
   "cell_type": "markdown",
   "id": "dca055c6",
   "metadata": {},
   "source": [
    " You can merge one dictionary into another using the update method:"
   ]
  },
  {
   "cell_type": "code",
   "execution_count": 26,
   "id": "2582d982",
   "metadata": {},
   "outputs": [
    {
     "data": {
      "text/plain": [
       "{'a': 'Some Value', 'b': 'foot', 7: 'An integar', 'c': 12}"
      ]
     },
     "execution_count": 26,
     "metadata": {},
     "output_type": "execute_result"
    }
   ],
   "source": [
    "d1.update({\"b\":\"foot\",\"c\":12})\n",
    "d1"
   ]
  },
  {
   "cell_type": "markdown",
   "id": "7874b5c8",
   "metadata": {},
   "source": [
    "Note: The update method changes dictionaries in place, so any existing keys in the data\n",
    " passed to update will have their old values discarded."
   ]
  },
  {
   "cell_type": "markdown",
   "id": "e6e297ec",
   "metadata": {},
   "source": [
    "### Default Values"
   ]
  },
  {
   "cell_type": "code",
   "execution_count": 28,
   "id": "c490a474",
   "metadata": {},
   "outputs": [
    {
     "data": {
      "text/plain": [
       "{'a': ['apple', 'atom'], 'b': ['bat', 'bar', 'book']}"
      ]
     },
     "execution_count": 28,
     "metadata": {},
     "output_type": "execute_result"
    }
   ],
   "source": [
    "words = [\"apple\", \"bat\", \"bar\", \"atom\", \"book\"]\n",
    "\n",
    "by_letter = {}\n",
    "\n",
    "for word in words:\n",
    "    letter = word[0]\n",
    "    if letter not in by_letter:\n",
    "        by_letter[letter]=[word]\n",
    "    else:\n",
    "        by_letter[letter].append(word)\n",
    "\n",
    "by_letter\n",
    "\n"
   ]
  },
  {
   "cell_type": "markdown",
   "id": "0be5dc66",
   "metadata": {},
   "source": [
    "### Valid dictionary key types"
   ]
  },
  {
   "cell_type": "markdown",
   "id": "695b5944",
   "metadata": {},
   "source": [
    "While the values of a dictionary can be any Python object, the keys generally have to\n",
    " be immutable objects like scalar types (int, float, string) or tuples (all the objects in\n",
    " the tuple need to be immutable, too). The technical term here is **hashability**\n",
    " . You can\n",
    " check whether an object is hashable (can be used as a key in a dictionary) with the\n",
    " hash function:"
   ]
  },
  {
   "cell_type": "code",
   "execution_count": 30,
   "id": "4bfba9e1",
   "metadata": {},
   "outputs": [
    {
     "data": {
      "text/plain": [
       "-6045584556083493016"
      ]
     },
     "execution_count": 30,
     "metadata": {},
     "output_type": "execute_result"
    }
   ],
   "source": [
    "hash(\"string\")"
   ]
  },
  {
   "cell_type": "code",
   "execution_count": 32,
   "id": "af0faf74",
   "metadata": {},
   "outputs": [
    {
     "data": {
      "text/plain": [
       "7543882941688604266"
      ]
     },
     "execution_count": 32,
     "metadata": {},
     "output_type": "execute_result"
    }
   ],
   "source": [
    "hash((1,2,3,(11)))"
   ]
  },
  {
   "cell_type": "code",
   "execution_count": 33,
   "id": "de6d1a45",
   "metadata": {},
   "outputs": [
    {
     "ename": "TypeError",
     "evalue": "unhashable type: 'list'",
     "output_type": "error",
     "traceback": [
      "\u001b[31m---------------------------------------------------------------------------\u001b[39m",
      "\u001b[31mTypeError\u001b[39m                                 Traceback (most recent call last)",
      "\u001b[36mCell\u001b[39m\u001b[36m \u001b[39m\u001b[32mIn[33]\u001b[39m\u001b[32m, line 1\u001b[39m\n\u001b[32m----> \u001b[39m\u001b[32m1\u001b[39m \u001b[38;5;28;43mhash\u001b[39;49m\u001b[43m(\u001b[49m\u001b[43m(\u001b[49m\u001b[32;43m1\u001b[39;49m\u001b[43m,\u001b[49m\u001b[32;43m2\u001b[39;49m\u001b[43m,\u001b[49m\u001b[43m[\u001b[49m\u001b[32;43m1\u001b[39;49m\u001b[43m,\u001b[49m\u001b[32;43m2\u001b[39;49m\u001b[43m]\u001b[49m\u001b[43m)\u001b[49m\u001b[43m)\u001b[49m\n",
      "\u001b[31mTypeError\u001b[39m: unhashable type: 'list'"
     ]
    }
   ],
   "source": [
    "hash((1,2,[1,2]))"
   ]
  },
  {
   "cell_type": "markdown",
   "id": "d65edc28",
   "metadata": {},
   "source": [
    " fails because lists are mutable"
   ]
  },
  {
   "cell_type": "markdown",
   "id": "78761114",
   "metadata": {},
   "source": [
    "To use a list as a key, one option is to convert it to a tuple\n"
   ]
  },
  {
   "cell_type": "code",
   "execution_count": 39,
   "id": "812125f3",
   "metadata": {},
   "outputs": [
    {
     "data": {
      "text/plain": [
       "{(1, 2, 3): 5}"
      ]
     },
     "execution_count": 39,
     "metadata": {},
     "output_type": "execute_result"
    }
   ],
   "source": [
    "d = {}\n",
    "\n",
    "d[tuple([1,2,3])] = 5\n",
    "d\n"
   ]
  }
 ],
 "metadata": {
  "kernelspec": {
   "display_name": ".venv",
   "language": "python",
   "name": "python3"
  },
  "language_info": {
   "codemirror_mode": {
    "name": "ipython",
    "version": 3
   },
   "file_extension": ".py",
   "mimetype": "text/x-python",
   "name": "python",
   "nbconvert_exporter": "python",
   "pygments_lexer": "ipython3",
   "version": "3.13.0"
  }
 },
 "nbformat": 4,
 "nbformat_minor": 5
}
