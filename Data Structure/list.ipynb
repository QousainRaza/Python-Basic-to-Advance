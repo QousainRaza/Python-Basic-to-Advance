{
 "cells": [
  {
   "cell_type": "markdown",
   "id": "34052905",
   "metadata": {},
   "source": [
    "## List"
   ]
  },
  {
   "cell_type": "code",
   "execution_count": 1,
   "id": "ff4aa1cb",
   "metadata": {},
   "outputs": [
    {
     "name": "stdout",
     "output_type": "stream",
     "text": [
      "['Banana', 'Kiwi', 'Orange']\n"
     ]
    }
   ],
   "source": [
    "fruits = [\"Apple\",\"Banana\",\"Kiwi\",\"Orange\"]\n",
    "print(fruits[1:])"
   ]
  },
  {
   "cell_type": "code",
   "execution_count": null,
   "id": "fe1030dc",
   "metadata": {},
   "outputs": [],
   "source": [
    "fruits[1]='Pineapple'\n",
    "print(fruits)"
   ]
  },
  {
   "cell_type": "markdown",
   "id": "0711584f",
   "metadata": {},
   "source": [
    "List MEthods"
   ]
  },
  {
   "cell_type": "code",
   "execution_count": 24,
   "id": "95aca315",
   "metadata": {},
   "outputs": [
    {
     "name": "stdout",
     "output_type": "stream",
     "text": [
      "['Apple', 'cherry', 'cherry', 'cherry', 'cherry', 'cherry', 'cherry', 'cherry', 'cherry', 'cherry', 'mango']\n",
      "['Apple', 'cherry', 'cherry', 'cherry', 'cherry', 'cherry', 'cherry', 'cherry', 'cherry', 'mango']\n",
      "mango\n",
      "['Apple', 'cherry', 'cherry', 'cherry', 'cherry', 'cherry', 'cherry', 'cherry', 'cherry']\n",
      "8\n",
      "0\n",
      "['Apple', 'cherry', 'cherry', 'cherry', 'cherry', 'cherry', 'cherry', 'cherry', 'cherry']\n",
      "['cherry', 'cherry', 'cherry', 'cherry', 'cherry', 'cherry', 'cherry', 'cherry', 'Apple']\n",
      "[]\n"
     ]
    }
   ],
   "source": [
    "fruits.append('mango') ## this append mango at end\n",
    "#print(fruits)\n",
    "\n",
    "#fruits.insert(1,'cherry') ##insert at 1 index\n",
    "print(fruits)\n",
    "\n",
    "fruits.remove('cherry') ## reomove the first occurance\n",
    "print(fruits)\n",
    "\n",
    "pop_fruit=fruits.pop() ## remove and returns the last element\n",
    "print(pop_fruit)\n",
    "\n",
    "print(fruits)\n",
    "\n",
    "count = fruits.count('cherry')\n",
    "print(count)\n",
    "\n",
    "index= fruits.index('Apple')\n",
    "print(index)\n",
    "\n",
    "fruits.sort()\n",
    "print(fruits)\n",
    "\n",
    "fruits.reverse()\n",
    "print(fruits)\n",
    "\n",
    "fruits.clear()\n",
    "print(fruits)\n"
   ]
  },
  {
   "cell_type": "markdown",
   "id": "fc3a8ad0",
   "metadata": {},
   "source": [
    "# Slicing with Step Size\n",
    "-You can use slicing with a step size to access elements at regular intervals. The syntax is list[start:end:step]."
   ]
  },
  {
   "cell_type": "code",
   "execution_count": 5,
   "id": "76e1475e",
   "metadata": {},
   "outputs": [
    {
     "name": "stdout",
     "output_type": "stream",
     "text": [
      "[2, 3, 4, 5, 6, 7, 8]\n",
      "[1, 2, 3, 4, 5, 6, 7, 8, 9]\n",
      "[1, 3, 5, 7, 9]\n",
      "[9, 8, 7, 6, 5, 4, 3, 2, 1]\n",
      "[6, 5, 4, 3]\n",
      "[2]\n"
     ]
    }
   ],
   "source": [
    "numbers=[1,2,3,4,5,6,7,8,9]\n",
    "print(numbers[1:8:1]) ## Slice steps cannont be zero\n",
    "print(numbers[::1])\n",
    "print(numbers[::2])\n",
    "print(numbers[::-1])\n",
    "print(numbers[5:1:-1])\n",
    "print(numbers[1::-2])"
   ]
  },
  {
   "cell_type": "markdown",
   "id": "9f9f7662",
   "metadata": {},
   "source": [
    "Iteration over list"
   ]
  },
  {
   "cell_type": "code",
   "execution_count": 3,
   "id": "1894f469",
   "metadata": {},
   "outputs": [
    {
     "name": "stdout",
     "output_type": "stream",
     "text": [
      "1\n",
      "2\n",
      "3\n",
      "4\n",
      "5\n",
      "6\n",
      "7\n",
      "8\n",
      "9\n",
      "0 1\n",
      "1 2\n",
      "2 3\n",
      "3 4\n",
      "4 5\n",
      "5 6\n",
      "6 7\n",
      "7 8\n",
      "8 9\n"
     ]
    }
   ],
   "source": [
    "## We do iteration using the the for loop\n",
    "numbers=[1,2,3,4,5,6,7,8,9]\n",
    "for number in numbers:\n",
    "    print(number)\n",
    "for index,number in enumerate(numbers):\n",
    "    print(index,number)"
   ]
  },
  {
   "cell_type": "markdown",
   "id": "6ea8454e",
   "metadata": {},
   "source": [
    "LIst Comprehension"
   ]
  },
  {
   "cell_type": "code",
   "execution_count": 5,
   "id": "04395dd0",
   "metadata": {},
   "outputs": [
    {
     "name": "stdout",
     "output_type": "stream",
     "text": [
      "[0, 1, 4, 9, 16, 25, 36, 49, 64, 81]\n"
     ]
    }
   ],
   "source": [
    "lst=[]\n",
    "for i in range(10):\n",
    "    lst.append(i**2)\n",
    "print(lst)"
   ]
  },
  {
   "cell_type": "code",
   "execution_count": null,
   "id": "dc9c3c1f",
   "metadata": {},
   "outputs": [],
   "source": [
    "lst=[x**2 for x in range(10)]\n"
   ]
  }
 ],
 "metadata": {
  "kernelspec": {
   "display_name": ".venv",
   "language": "python",
   "name": "python3"
  },
  "language_info": {
   "codemirror_mode": {
    "name": "ipython",
    "version": 3
   },
   "file_extension": ".py",
   "mimetype": "text/x-python",
   "name": "python",
   "nbconvert_exporter": "python",
   "pygments_lexer": "ipython3",
   "version": "3.13.0"
  }
 },
 "nbformat": 4,
 "nbformat_minor": 5
}
