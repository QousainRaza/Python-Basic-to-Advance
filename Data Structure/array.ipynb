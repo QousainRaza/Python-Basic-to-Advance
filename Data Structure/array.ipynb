{
 "cells": [
  {
   "cell_type": "markdown",
   "id": "d887716d",
   "metadata": {},
   "source": [
    "Note: Python does not have built-in support for Arrays, but Python Lists can be used instead."
   ]
  },
  {
   "cell_type": "code",
   "execution_count": 1,
   "id": "cb68464e",
   "metadata": {},
   "outputs": [],
   "source": [
    "car = [\"ford\",\"Volvo\",\"Carola\"]"
   ]
  },
  {
   "cell_type": "code",
   "execution_count": 8,
   "id": "34f0009c",
   "metadata": {},
   "outputs": [
    {
     "name": "stdout",
     "output_type": "stream",
     "text": [
      "BMW\n"
     ]
    }
   ],
   "source": [
    "x=car[0]\n",
    "print(x)"
   ]
  },
  {
   "cell_type": "code",
   "execution_count": 6,
   "id": "858d1c06",
   "metadata": {},
   "outputs": [],
   "source": [
    "car[0]='BMW'"
   ]
  },
  {
   "cell_type": "code",
   "execution_count": 7,
   "id": "491866fa",
   "metadata": {},
   "outputs": [
    {
     "name": "stdout",
     "output_type": "stream",
     "text": [
      "BMW\n"
     ]
    }
   ],
   "source": [
    "x=car[0]\n",
    "print(x)"
   ]
  },
  {
   "cell_type": "code",
   "execution_count": null,
   "id": "e88235ca",
   "metadata": {},
   "outputs": [
    {
     "name": "stdout",
     "output_type": "stream",
     "text": [
      "3\n"
     ]
    }
   ],
   "source": [
    "# Length = highest_index+1\n",
    "y=len(car)\n",
    "print(y)"
   ]
  },
  {
   "cell_type": "code",
   "execution_count": 12,
   "id": "5ab967ce",
   "metadata": {},
   "outputs": [
    {
     "name": "stdout",
     "output_type": "stream",
     "text": [
      "BMW\n",
      "Volvo\n",
      "Carola\n"
     ]
    }
   ],
   "source": [
    "for x in car:\n",
    "    print(x)"
   ]
  },
  {
   "cell_type": "code",
   "execution_count": 13,
   "id": "fc72c475",
   "metadata": {},
   "outputs": [],
   "source": [
    "car.append('Honda')"
   ]
  },
  {
   "cell_type": "markdown",
   "id": "3c24bfad",
   "metadata": {},
   "source": [
    "Array Methods<br>\n",
    "Python has a set of built-in methods that you can use on lists/arrays.<br>\n",
    "\n",
    "Method\tDescription <br>\n",
    "append()\tAdds an element at the end of the list<br>\n",
    "clear()\tRemoves all the elements from the list<br>\n",
    "copy()\tReturns a copy of the list<br>\n",
    "count()\tReturns the number of elements with the specified value<br>\n",
    "extend()\tAdd the elements of a list (or any iterable), to the end of the current list<br>\n",
    "index()\tReturns the index of the first element with the specified value<br>\n",
    "insert()\tAdds an element at the specified position<br>\n",
    "pop()\tRemoves the element at the specified position<br>\n",
    "remove()\tRemoves the first item with the specified value<br>\n",
    "reverse()\tReverses the order of the list<br>\n",
    "sort()\tSorts the list<br>"
   ]
  }
 ],
 "metadata": {
  "kernelspec": {
   "display_name": ".venv",
   "language": "python",
   "name": "python3"
  },
  "language_info": {
   "codemirror_mode": {
    "name": "ipython",
    "version": 3
   },
   "file_extension": ".py",
   "mimetype": "text/x-python",
   "name": "python",
   "nbconvert_exporter": "python",
   "pygments_lexer": "ipython3",
   "version": "3.13.0"
  }
 },
 "nbformat": 4,
 "nbformat_minor": 5
}
