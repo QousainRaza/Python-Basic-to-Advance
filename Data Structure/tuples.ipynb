{
 "cells": [
  {
   "cell_type": "markdown",
   "id": "f5005a6e",
   "metadata": {},
   "source": [
    "## Tuples in Python\n",
    "#### Introduction to Tuples in Python\n",
    "We will continue our discussion on Python data structures by focusing on tuples. Now, we will cover tuples, including their creation, accessing elements, operations, immutability, common methods, packing and unpacking, and nested tuples, all with practical examples.\n",
    "\n",
    "#### What Are Tuples?\n",
    "Tuples are ordered collections of items that are **immutable**. This means once a tuple is created, its elements cannot be changed. While lists are mutable and allow modifications, tuples do not. This immutability distinguishes tuples from lists."
   ]
  },
  {
   "cell_type": "code",
   "execution_count": 2,
   "id": "0ee8b19e",
   "metadata": {},
   "outputs": [
    {
     "name": "stdout",
     "output_type": "stream",
     "text": [
      "()\n",
      "<class 'tuple'>\n"
     ]
    }
   ],
   "source": [
    "empty_tuple = ()\n",
    "print(empty_tuple)\n",
    "print(type(empty_tuple))"
   ]
  },
  {
   "cell_type": "code",
   "execution_count": 3,
   "id": "ddf1cf40",
   "metadata": {},
   "outputs": [
    {
     "name": "stdout",
     "output_type": "stream",
     "text": [
      "()\n",
      "<class 'tuple'>\n"
     ]
    }
   ],
   "source": [
    "empty_tuple = tuple()\n",
    "print(empty_tuple)\n",
    "print(type(empty_tuple))"
   ]
  },
  {
   "cell_type": "code",
   "execution_count": 4,
   "id": "ebe23f39",
   "metadata": {},
   "outputs": [
    {
     "name": "stdout",
     "output_type": "stream",
     "text": [
      "(1, 2, 3, 4, 5, 6, 7, 8, 9)\n"
     ]
    }
   ],
   "source": [
    "numbers = tuple([1,2,3,4,5,6,7,8,9])\n",
    "print(numbers)"
   ]
  },
  {
   "cell_type": "code",
   "execution_count": 5,
   "id": "34f848aa",
   "metadata": {},
   "outputs": [
    {
     "name": "stdout",
     "output_type": "stream",
     "text": [
      "<class 'tuple'>\n",
      "(10, 'Qousain', 3.14, True)\n"
     ]
    }
   ],
   "source": [
    "mixed_tuple = (10 ,\"Qousain\",3.14,True)\n",
    "print(type(mixed_tuple))\n",
    "print(mixed_tuple)"
   ]
  },
  {
   "cell_type": "markdown",
   "id": "04044ac9",
   "metadata": {},
   "source": [
    "### Operations"
   ]
  },
  {
   "cell_type": "code",
   "execution_count": 6,
   "id": "f65eaab4",
   "metadata": {},
   "outputs": [
    {
     "name": "stdout",
     "output_type": "stream",
     "text": [
      "(1, 2, 3, 4, 5, 6, 7, 8, 9, 10, 'Qousain', 3.14, True)\n"
     ]
    }
   ],
   "source": [
    "concatenation = numbers + mixed_tuple\n",
    "print(concatenation)"
   ]
  },
  {
   "cell_type": "code",
   "execution_count": 7,
   "id": "c68306d4",
   "metadata": {},
   "outputs": [
    {
     "name": "stdout",
     "output_type": "stream",
     "text": [
      "(10, 'Qousain', 3.14, True, 10, 'Qousain', 3.14, True, 10, 'Qousain', 3.14, True)\n",
      "(1, 2, 3, 4, 5, 6, 7, 8, 9, 1, 2, 3, 4, 5, 6, 7, 8, 9, 1, 2, 3, 4, 5, 6, 7, 8, 9)\n"
     ]
    }
   ],
   "source": [
    "repeated_tuple = mixed_tuple * 3\n",
    "print(repeated_tuple)\n",
    "repeated_numbers = numbers * 3\n",
    "print(repeated_numbers)"
   ]
  },
  {
   "cell_type": "markdown",
   "id": "5d72a3ca",
   "metadata": {},
   "source": [
    "### Immutability of Tuples"
   ]
  },
  {
   "cell_type": "code",
   "execution_count": 8,
   "id": "b8e3023c",
   "metadata": {},
   "outputs": [
    {
     "ename": "TypeError",
     "evalue": "'tuple' object does not support item assignment",
     "output_type": "error",
     "traceback": [
      "\u001b[31m---------------------------------------------------------------------------\u001b[39m",
      "\u001b[31mTypeError\u001b[39m                                 Traceback (most recent call last)",
      "\u001b[36mCell\u001b[39m\u001b[36m \u001b[39m\u001b[32mIn[8]\u001b[39m\u001b[32m, line 1\u001b[39m\n\u001b[32m----> \u001b[39m\u001b[32m1\u001b[39m \u001b[43mnumbers\u001b[49m\u001b[43m[\u001b[49m\u001b[32;43m1\u001b[39;49m\u001b[43m]\u001b[49m=\u001b[32m5\u001b[39m\n",
      "\u001b[31mTypeError\u001b[39m: 'tuple' object does not support item assignment"
     ]
    }
   ],
   "source": [
    "numbers[1]=5"
   ]
  },
  {
   "cell_type": "markdown",
   "id": "681d0cba",
   "metadata": {},
   "source": [
    "### Tuple Methods\n",
    "Tuples have two commonly used methods: **count** and **index**."
   ]
  },
  {
   "cell_type": "code",
   "execution_count": null,
   "id": "c7511f87",
   "metadata": {},
   "outputs": [
    {
     "name": "stdout",
     "output_type": "stream",
     "text": [
      "1\n",
      "4\n"
     ]
    }
   ],
   "source": [
    "print(numbers.count(1))\n",
    "print(numbers.index(5)) #return index"
   ]
  },
  {
   "cell_type": "markdown",
   "id": "0a669bc1",
   "metadata": {},
   "source": [
    "### Packing and Unpacking Tuples\n",
    "Packing refers to assigning multiple values to a tuple, while unpacking extracts those values into variables."
   ]
  },
  {
   "cell_type": "code",
   "execution_count": 13,
   "id": "f067358d",
   "metadata": {},
   "outputs": [
    {
     "data": {
      "text/plain": [
       "tuple"
      ]
     },
     "execution_count": 13,
     "metadata": {},
     "output_type": "execute_result"
    }
   ],
   "source": [
    "my_tuple = 1,\"Raza\",False\n",
    "type(my_tuple)"
   ]
  },
  {
   "cell_type": "code",
   "execution_count": 15,
   "id": "e864199a",
   "metadata": {},
   "outputs": [
    {
     "name": "stdout",
     "output_type": "stream",
     "text": [
      "1\n",
      "Raza\n",
      "False\n"
     ]
    }
   ],
   "source": [
    "# to unpack a tuple:\n",
    "a, b, c = my_tuple\n",
    "print(a)\n",
    "print(b)\n",
    "print(c)"
   ]
  },
  {
   "cell_type": "markdown",
   "id": "31bcd074",
   "metadata": {},
   "source": [
    "### Nested Tuple and accesing"
   ]
  },
  {
   "cell_type": "code",
   "execution_count": 16,
   "id": "e675b7d8",
   "metadata": {},
   "outputs": [
    {
     "name": "stdout",
     "output_type": "stream",
     "text": [
      "(1, 2, 3)\n",
      "c\n"
     ]
    }
   ],
   "source": [
    "nested_tuple = (\n",
    "    (1, 2, 3),\n",
    "    (\"a\", \"b\", \"c\"),\n",
    "    (True, False)\n",
    ")\n",
    "print(nested_tuple[0])\n",
    "print(nested_tuple[1][2])"
   ]
  }
 ],
 "metadata": {
  "kernelspec": {
   "display_name": ".venv",
   "language": "python",
   "name": "python3"
  },
  "language_info": {
   "codemirror_mode": {
    "name": "ipython",
    "version": 3
   },
   "file_extension": ".py",
   "mimetype": "text/x-python",
   "name": "python",
   "nbconvert_exporter": "python",
   "pygments_lexer": "ipython3",
   "version": "3.13.0"
  }
 },
 "nbformat": 4,
 "nbformat_minor": 5
}
