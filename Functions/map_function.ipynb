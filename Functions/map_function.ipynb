{
 "cells": [
  {
   "cell_type": "markdown",
   "id": "5ca6ddfa",
   "metadata": {},
   "source": [
    "# Map Functions in Python"
   ]
  },
  {
   "cell_type": "markdown",
   "id": "447fd4c7",
   "metadata": {},
   "source": [
    "#### Introduction to the Map Function \n",
    "The map function in Python applies a given function to all the items in an input list or any other iterable and returns a map object, which is an iterator. This is particularly useful for transforming data comprehensively."
   ]
  },
  {
   "cell_type": "code",
   "execution_count": null,
   "id": "650192e8",
   "metadata": {},
   "outputs": [
    {
     "data": {
      "text/plain": [
       "100"
      ]
     },
     "execution_count": 4,
     "metadata": {},
     "output_type": "execute_result"
    }
   ],
   "source": [
    "def square(x):\n",
    "    return x*x"
   ]
  },
  {
   "cell_type": "markdown",
   "id": "4871f631",
   "metadata": {},
   "source": [
    "Using a For Loop (Traditional Way)"
   ]
  },
  {
   "cell_type": "code",
   "execution_count": 6,
   "id": "f9f3fa49",
   "metadata": {},
   "outputs": [
    {
     "name": "stdout",
     "output_type": "stream",
     "text": [
      "[1, 4, 9, 16, 25, 36, 49, 64, 81]\n"
     ]
    }
   ],
   "source": [
    "numbers = [1,2,3,4,5,6,7,8,9]\n",
    "\n",
    "square_num = []\n",
    "for num in numbers:\n",
    "    square_num.append(square(num))\n",
    "\n",
    "print(square_num)"
   ]
  },
  {
   "cell_type": "markdown",
   "id": "34cd6939",
   "metadata": {},
   "source": [
    "Using the Map Function"
   ]
  },
  {
   "cell_type": "code",
   "execution_count": 7,
   "id": "d615fc6b",
   "metadata": {},
   "outputs": [
    {
     "data": {
      "text/plain": [
       "[1, 4, 9, 16, 25, 36, 49, 64, 81]"
      ]
     },
     "execution_count": 7,
     "metadata": {},
     "output_type": "execute_result"
    }
   ],
   "source": [
    "list(map(square,numbers))"
   ]
  },
  {
   "cell_type": "markdown",
   "id": "655ba73d",
   "metadata": {},
   "source": [
    "Using Lambda Functions with Map"
   ]
  },
  {
   "cell_type": "code",
   "execution_count": 8,
   "id": "30a6cb74",
   "metadata": {},
   "outputs": [
    {
     "data": {
      "text/plain": [
       "[1, 4, 9, 16, 25, 36, 49, 64, 81]"
      ]
     },
     "execution_count": 8,
     "metadata": {},
     "output_type": "execute_result"
    }
   ],
   "source": [
    "list(map(lambda x : x*x , numbers))"
   ]
  },
  {
   "cell_type": "code",
   "execution_count": null,
   "id": "445c3eb7",
   "metadata": {},
   "outputs": [],
   "source": []
  }
 ],
 "metadata": {
  "kernelspec": {
   "display_name": ".venv",
   "language": "python",
   "name": "python3"
  },
  "language_info": {
   "codemirror_mode": {
    "name": "ipython",
    "version": 3
   },
   "file_extension": ".py",
   "mimetype": "text/x-python",
   "name": "python",
   "nbconvert_exporter": "python",
   "pygments_lexer": "ipython3",
   "version": "3.13.0"
  }
 },
 "nbformat": 4,
 "nbformat_minor": 5
}
