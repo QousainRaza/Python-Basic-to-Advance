{
 "cells": [
  {
   "cell_type": "code",
   "execution_count": 2,
   "id": "fdcd642f",
   "metadata": {},
   "outputs": [
    {
     "name": "stdout",
     "output_type": "stream",
     "text": [
      "This is a function!\n"
     ]
    }
   ],
   "source": [
    "def my_function():\n",
    "    print(\"This is a function!\")\n",
    "    return\n",
    "my_function()"
   ]
  },
  {
   "cell_type": "code",
   "execution_count": 4,
   "id": "a617fe7e",
   "metadata": {},
   "outputs": [
    {
     "name": "stdout",
     "output_type": "stream",
     "text": [
      "No. is even!\n"
     ]
    }
   ],
   "source": [
    "def even_odd(num):\n",
    "    if num%2==0:\n",
    "        print(\"No. is even!\")\n",
    "    else:\n",
    "        print(\"No. is odd\")\n",
    "    return\n",
    "even_odd(24)"
   ]
  },
  {
   "cell_type": "code",
   "execution_count": 5,
   "id": "6de8449f",
   "metadata": {},
   "outputs": [
    {
     "name": "stdout",
     "output_type": "stream",
     "text": [
      "No. is odd\n"
     ]
    }
   ],
   "source": [
    "even_odd(11)"
   ]
  },
  {
   "cell_type": "code",
   "execution_count": 7,
   "id": "16c42514",
   "metadata": {},
   "outputs": [
    {
     "name": "stdout",
     "output_type": "stream",
     "text": [
      "4\n"
     ]
    }
   ],
   "source": [
    "def add(a,b):\n",
    "    return a+b\n",
    "result= add(2,2)\n",
    "print(result)"
   ]
  },
  {
   "cell_type": "code",
   "execution_count": 13,
   "id": "96604a40",
   "metadata": {},
   "outputs": [
    {
     "name": "stdout",
     "output_type": "stream",
     "text": [
      "hello Qosuain, Welcome to my notebook! \n"
     ]
    }
   ],
   "source": [
    "def greet(name):\n",
    "    print(f\"hello {name}, Welcome to my notebook! \")\n",
    "greet(\"Qosuain\")"
   ]
  },
  {
   "cell_type": "markdown",
   "id": "30380b14",
   "metadata": {},
   "source": [
    "->Default parameters used if parameter does not pass"
   ]
  },
  {
   "cell_type": "code",
   "execution_count": 1,
   "id": "2c73223c",
   "metadata": {},
   "outputs": [
    {
     "name": "stdout",
     "output_type": "stream",
     "text": [
      "hello Guest, Welcome to my notebook! \n",
      "hello Qosauin, Welcome to my notebook! \n"
     ]
    }
   ],
   "source": [
    "def greet(name=\"Guest\"):\n",
    "    print(f\"hello {name}, Welcome to my notebook! \")\n",
    "greet()\n",
    "greet(\"Qosauin\")"
   ]
  },
  {
   "cell_type": "markdown",
   "id": "abc669ad",
   "metadata": {},
   "source": [
    "Temperature Conversion"
   ]
  },
  {
   "cell_type": "code",
   "execution_count": 15,
   "id": "fa751f33",
   "metadata": {},
   "outputs": [],
   "source": [
    "def convt_temp(temperature, type):\n",
    "    if type=='C' or 'c':\n",
    "        temp1=temperature*(9 / 5) + 32\n",
    "        print(temp1,\"F\")\n",
    "    elif type=='F' or 'f':\n",
    "        temp2=(temperature - 32) * (5 / 9)\n",
    "        print(temp2,\"C\")\n",
    "    else:\n",
    "        print(\"None\")"
   ]
  },
  {
   "cell_type": "code",
   "execution_count": 19,
   "id": "a382cf35",
   "metadata": {},
   "outputs": [
    {
     "name": "stdout",
     "output_type": "stream",
     "text": [
      "53.6 F\n"
     ]
    }
   ],
   "source": [
    "convt_temp(12, 'C')"
   ]
  },
  {
   "cell_type": "markdown",
   "id": "9b37682a",
   "metadata": {},
   "source": [
    "Password Checker"
   ]
  },
  {
   "cell_type": "code",
   "execution_count": null,
   "id": "64771ef0",
   "metadata": {},
   "outputs": [],
   "source": [
    "def strong_password(password):\n",
    "    if len(password)<=8 and "
   ]
  }
 ],
 "metadata": {
  "kernelspec": {
   "display_name": ".venv",
   "language": "python",
   "name": "python3"
  },
  "language_info": {
   "codemirror_mode": {
    "name": "ipython",
    "version": 3
   },
   "file_extension": ".py",
   "mimetype": "text/x-python",
   "name": "python",
   "nbconvert_exporter": "python",
   "pygments_lexer": "ipython3",
   "version": "3.13.0"
  }
 },
 "nbformat": 4,
 "nbformat_minor": 5
}
