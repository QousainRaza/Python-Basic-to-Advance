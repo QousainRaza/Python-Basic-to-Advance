{
 "cells": [
  {
   "cell_type": "markdown",
   "id": "6d831432",
   "metadata": {},
   "source": [
    "## Filter Function in Python\n",
    "### Introduction to the Filter Function in Python\n",
    "the discussion continues with respect to Python, focusing on the filter function. The filter function constructs an iterator from elements of an iterable for which a function returns true. It is used to filter out items from a list based on a condition."
   ]
  },
  {
   "cell_type": "code",
   "execution_count": null,
   "id": "5ade3780",
   "metadata": {},
   "outputs": [],
   "source": [
    "def iseven(num):\n",
    "    if num % 2 == 0:\n",
    "        return True\n"
   ]
  },
  {
   "cell_type": "code",
   "execution_count": 14,
   "id": "4c3322ab",
   "metadata": {},
   "outputs": [],
   "source": [
    "number=[0,1,2,3,4,5,6,7,8,9]"
   ]
  },
  {
   "cell_type": "code",
   "execution_count": 11,
   "id": "afba3787",
   "metadata": {},
   "outputs": [
    {
     "data": {
      "text/plain": [
       "[2, 4, 6, 8]"
      ]
     },
     "execution_count": 11,
     "metadata": {},
     "output_type": "execute_result"
    }
   ],
   "source": [
    "list(filter(iseven,number))"
   ]
  },
  {
   "cell_type": "code",
   "execution_count": 12,
   "id": "894ced54",
   "metadata": {},
   "outputs": [
    {
     "data": {
      "text/plain": [
       "[2, 4, 6, 8]"
      ]
     },
     "execution_count": 12,
     "metadata": {},
     "output_type": "execute_result"
    }
   ],
   "source": [
    "list(filter(lambda x : x % 2 == 0,number))"
   ]
  },
  {
   "cell_type": "code",
   "execution_count": 15,
   "id": "53b6472a",
   "metadata": {},
   "outputs": [
    {
     "data": {
      "text/plain": [
       "[0, 2, 4, 6]"
      ]
     },
     "execution_count": 15,
     "metadata": {},
     "output_type": "execute_result"
    }
   ],
   "source": [
    "list(filter(lambda x : x%2 == 0 and x<7,number))"
   ]
  },
  {
   "cell_type": "code",
   "execution_count": null,
   "id": "28e52fb0",
   "metadata": {},
   "outputs": [],
   "source": []
  }
 ],
 "metadata": {
  "kernelspec": {
   "display_name": ".venv",
   "language": "python",
   "name": "python3"
  },
  "language_info": {
   "codemirror_mode": {
    "name": "ipython",
    "version": 3
   },
   "file_extension": ".py",
   "mimetype": "text/x-python",
   "name": "python",
   "nbconvert_exporter": "python",
   "pygments_lexer": "ipython3",
   "version": "3.13.0"
  }
 },
 "nbformat": 4,
 "nbformat_minor": 5
}
