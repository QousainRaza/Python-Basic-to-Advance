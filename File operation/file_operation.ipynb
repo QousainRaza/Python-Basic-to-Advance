{
 "cells": [
  {
   "cell_type": "markdown",
   "id": "d27a2401",
   "metadata": {},
   "source": [
    "# File Operation In Python"
   ]
  },
  {
   "cell_type": "markdown",
   "id": "221e0598",
   "metadata": {},
   "source": [
    "### Introduction to File Operations in Python"
   ]
  },
  {
   "cell_type": "markdown",
   "id": "54ab1941",
   "metadata": {},
   "source": [
    "-> Continues the discussion on Python, focusing on file operations. Various file operations will be performed using Python, including working with both text and binary files. We covers how to create files, write to them, read their contents, and more."
   ]
  },
  {
   "cell_type": "markdown",
   "id": "292c56ce",
   "metadata": {},
   "source": [
    "### Reading Files in Python\n"
   ]
  },
  {
   "cell_type": "code",
   "execution_count": null,
   "id": "df2fdea5",
   "metadata": {},
   "outputs": [],
   "source": [
    "with open(\"example.txt\",\"r\") as file:\n",
    "    Content = file.read()\n",
    "    print(Content)"
   ]
  },
  {
   "cell_type": "code",
   "execution_count": null,
   "id": "92b77754",
   "metadata": {},
   "outputs": [],
   "source": [
    "## read line by line\n",
    "\n",
    "with open(\"example.txt\",\"r\") as file:\n",
    "    for line in file:\n",
    "        print(line.strip()) ## .strip() remove the new line character"
   ]
  },
  {
   "cell_type": "markdown",
   "id": "80b8f9ef",
   "metadata": {},
   "source": [
    "### Writing to file\n",
    "\n"
   ]
  },
  {
   "cell_type": "code",
   "execution_count": null,
   "id": "a437a899",
   "metadata": {},
   "outputs": [],
   "source": [
    "## Writing a file (Overwriting)\n",
    "with open(\"example.txt\",\"w\") as file:\n",
    "    file.write(\"Helooo World\\n\")"
   ]
  },
  {
   "cell_type": "code",
   "execution_count": null,
   "id": "a0c902b3",
   "metadata": {},
   "outputs": [],
   "source": [
    "## Writing a file (without Overwriting)\n",
    "with open(\"example.txt\",\"a\") as file:\n",
    "    file.write(\"Helooo World\\n\")"
   ]
  },
  {
   "cell_type": "markdown",
   "id": "ec73a023",
   "metadata": {},
   "source": []
  },
  {
   "cell_type": "code",
   "execution_count": null,
   "id": "e2a7f96b",
   "metadata": {},
   "outputs": [],
   "source": [
    "## Writing Multiple Lines to a File\n",
    "Lines = [\"This is first line\\n\",\"This is second \\n\",\"This is third \\n\"]\n",
    "\n",
    "with open(\"example.txt\",\"a\") as file:\n",
    "    file.writelines(Lines)"
   ]
  },
  {
   "cell_type": "markdown",
   "id": "88fb7953",
   "metadata": {},
   "source": [
    "## Working with Binary files"
   ]
  },
  {
   "cell_type": "code",
   "execution_count": 5,
   "id": "e76f28e7",
   "metadata": {},
   "outputs": [],
   "source": [
    "with open(\"example.txt\",\"wb\") as file:\n",
    "    file.write(b\"Hello\")"
   ]
  },
  {
   "cell_type": "code",
   "execution_count": 3,
   "id": "2297901a",
   "metadata": {},
   "outputs": [
    {
     "name": "stdout",
     "output_type": "stream",
     "text": [
      "b'Hello'\n"
     ]
    }
   ],
   "source": [
    "with open(\"example.txt\",\"rb\") as file:\n",
    "    Content = file.read()\n",
    "    print(Content)"
   ]
  },
  {
   "cell_type": "code",
   "execution_count": 2,
   "id": "1d3f8acd",
   "metadata": {},
   "outputs": [],
   "source": [
    "## Copying Content from One File to Another\n",
    "with open(\"example.txt\" , \"r\") as file:\n",
    "    Content = file.read()\n",
    "\n",
    "with open(\"destination.txt\",\"w\") as destination_file:\n",
    "    destination_file.write(Content)"
   ]
  },
  {
   "cell_type": "code",
   "execution_count": null,
   "id": "411b7a1f",
   "metadata": {},
   "outputs": [
    {
     "name": "stdout",
     "output_type": "stream",
     "text": [
      "This is new line\n",
      "This is second line\n"
     ]
    }
   ],
   "source": [
    "## writing and then reading\n",
    "\n",
    "with open(\"example.txt\",\"w+\") as file:\n",
    "    file.write(\"This is new line\\n\")\n",
    "    file.write(\"This is second line\")\n",
    "\n",
    "    file.seek(0)  ## move cursor at the begining\n",
    "\n",
    "    content=file.read()\n",
    "    print(content)"
   ]
  },
  {
   "cell_type": "code",
   "execution_count": null,
   "id": "d6134d9a",
   "metadata": {},
   "outputs": [],
   "source": []
  }
 ],
 "metadata": {
  "kernelspec": {
   "display_name": ".venv",
   "language": "python",
   "name": "python3"
  },
  "language_info": {
   "codemirror_mode": {
    "name": "ipython",
    "version": 3
   },
   "file_extension": ".py",
   "mimetype": "text/x-python",
   "name": "python",
   "nbconvert_exporter": "python",
   "pygments_lexer": "ipython3",
   "version": "3.13.0"
  }
 },
 "nbformat": 4,
 "nbformat_minor": 5
}
