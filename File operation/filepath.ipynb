{
 "cells": [
  {
   "cell_type": "markdown",
   "id": "0b2c978a",
   "metadata": {},
   "source": [
    "# Working with file path"
   ]
  },
  {
   "cell_type": "code",
   "execution_count": 2,
   "id": "6e87e53f",
   "metadata": {},
   "outputs": [
    {
     "name": "stdout",
     "output_type": "stream",
     "text": [
      "Currently working directory is f:\\Data Science\\python\\6-File Operation\n"
     ]
    }
   ],
   "source": [
    "import os\n",
    "cwd = os.getcwd()\n",
    "print(f\"Currently working directory is {cwd}\")"
   ]
  },
  {
   "cell_type": "code",
   "execution_count": 3,
   "id": "733dcfda",
   "metadata": {},
   "outputs": [],
   "source": [
    "new_directory = \"Pakage\"\n",
    "os.mkdir(new_directory)"
   ]
  },
  {
   "cell_type": "code",
   "execution_count": 4,
   "id": "13d686c8",
   "metadata": {},
   "outputs": [],
   "source": [
    "os.mkdir(\"D2\")"
   ]
  },
  {
   "cell_type": "code",
   "execution_count": 5,
   "id": "8a2c7745",
   "metadata": {},
   "outputs": [
    {
     "data": {
      "text/plain": [
       "['D2',\n",
       " 'destination.txt',\n",
       " 'example.bin',\n",
       " 'example.txt',\n",
       " 'filepath.ipynb',\n",
       " 'file_operation.ipynb',\n",
       " 'Pakage']"
      ]
     },
     "execution_count": 5,
     "metadata": {},
     "output_type": "execute_result"
    }
   ],
   "source": [
    "os.listdir('.')"
   ]
  },
  {
   "cell_type": "code",
   "execution_count": 6,
   "id": "9df14a51",
   "metadata": {},
   "outputs": [
    {
     "data": {
      "text/plain": [
       "'Folder\\\\File.txt'"
      ]
     },
     "execution_count": 6,
     "metadata": {},
     "output_type": "execute_result"
    }
   ],
   "source": [
    "## Joining paths\n",
    "dir_name = \"Folder\"\n",
    "file_name = \"File.txt\"\n",
    "\n",
    "os.path.join(dir_name,file_name)"
   ]
  },
  {
   "cell_type": "code",
   "execution_count": 7,
   "id": "9314177a",
   "metadata": {},
   "outputs": [
    {
     "data": {
      "text/plain": [
       "'f:\\\\Data Science\\\\python\\\\6-File Operation\\\\Folder\\\\File.txt'"
      ]
     },
     "execution_count": 7,
     "metadata": {},
     "output_type": "execute_result"
    }
   ],
   "source": [
    "## Joining paths\n",
    "dir_name = \"Folder\"\n",
    "file_name = \"File.txt\"\n",
    "\n",
    "os.path.join(os.getcwd(), dir_name,file_name)"
   ]
  },
  {
   "cell_type": "code",
   "execution_count": 8,
   "id": "1fcc5d57",
   "metadata": {},
   "outputs": [
    {
     "name": "stdout",
     "output_type": "stream",
     "text": [
      "ok\n"
     ]
    }
   ],
   "source": [
    "if os.path.exists(\"example.txt\"):\n",
    "    print(\"ok\")"
   ]
  },
  {
   "cell_type": "code",
   "execution_count": 9,
   "id": "2d51645a",
   "metadata": {},
   "outputs": [
    {
     "name": "stdout",
     "output_type": "stream",
     "text": [
      "example.txt is file\n"
     ]
    }
   ],
   "source": [
    "## Checking the path is directory, file or nothing\n",
    "import os\n",
    "path= \"example.txt\"\n",
    "\n",
    "if os.path.isfile(path):\n",
    "    print(path,\"is file\")\n",
    "elif os.path.isdir(path):\n",
    "    print(\"Path is directory\")\n",
    "else:\n",
    "    print(\"Not a file or path\")"
   ]
  },
  {
   "cell_type": "code",
   "execution_count": null,
   "id": "28fb4806",
   "metadata": {},
   "outputs": [],
   "source": []
  }
 ],
 "metadata": {
  "kernelspec": {
   "display_name": ".venv",
   "language": "python",
   "name": "python3"
  },
  "language_info": {
   "codemirror_mode": {
    "name": "ipython",
    "version": 3
   },
   "file_extension": ".py",
   "mimetype": "text/x-python",
   "name": "python",
   "nbconvert_exporter": "python",
   "pygments_lexer": "ipython3",
   "version": "3.13.0"
  }
 },
 "nbformat": 4,
 "nbformat_minor": 5
}
